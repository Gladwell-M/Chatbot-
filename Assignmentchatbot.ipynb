{
 "cells": [
  {
   "cell_type": "code",
   "execution_count": null,
   "id": "eaa34a3a",
   "metadata": {},
   "outputs": [
    {
     "name": "stdout",
     "output_type": "stream",
     "text": [
      "Hello, Welcome to Gwell chatbot. What would you like to know?\n"
     ]
    },
    {
     "name": "stdout",
     "output_type": "stream",
     "text": [
      "I don't understand your question\n",
      "I don't understand your question\n"
     ]
    }
   ],
   "source": [
    "print(\"Hello, Welcome to Gwell chatbot. What would you like to know?\")\n",
    "\n",
    "while True:\n",
    "    question= (input(\"what would you like to know?(type 'exit' to quit)\"))\n",
    "    if question==\"what is data science\":\n",
    "        print (\"Data science is the process of collecting, analyzing, and interpreting large amounts of data to help make better decisions or predictions.\")\n",
    "    elif question ==\"what is data analytics?\":\n",
    "        print(\"It's the process of inspecting, cleaning, transforming, and modeling data to find useful information.\")\n",
    "    elif question ==\"what is the difference between AI, Machine Learning\":\n",
    "        print(\"AI is the broad concept of creating intelligent machines. Machine Learning is a subset of AI where systems learn from data to make predictions without being explicitly programmed.\")    \n",
    "    elif question==\"what is the ETL process?\":\n",
    "        print(\"ETL stands for Extract, Transform, Load. It's the process of extracting data from various sources, transforming it to a clean and standardized format, and loading it into a target system like a data warehouse.\")\n",
    "    elif question==\"How do you handle missing values in a dataset?\":\n",
    "        print(\"Common methods include deletion (removing rows/columns with missing data), or imputation (filling in missing values with a placeholder like the mean, median, or a predicted value).\")\n",
    "    elif question==\"What are the different types of SQL JOINs?\":\n",
    "        print(\"INNER JOIN (returns rows with matching values in both tables), LEFT JOIN (returns all rows from the left table and matching rows from the right), RIGHT JOIN (all rows from the right, and matching from the left), and FULL JOIN (all rows when there is a match in either table).\")\n",
    "    elif question==\"What's the difference between WHERE and HAVING clauses in SQL?\":\n",
    "        print(\"The WHERE clause filters individual rows before they are grouped. The HAVING clause filters groups of rows created by GROUP BY. HAVING is used after aggregation.\")\n",
    "    elif question==\"what is power query and what is its role?\":\n",
    "        print(\"Power Query is the Extract, Transform, Load (ETL) tool within Power BI. It's used to connect to various data sources, clean the data, and apply transformations before it's loaded into the data model.\")\n",
    "    elif question==\"What is DAX and what is it used for?\":\n",
    "        print(\"DAX (Data Analysis Expressions) is a formula language used in Power BI for creating Measures and Calculated Columns. It allows you to perform complex calculations and create new metrics from your data.\")\n",
    "    elif question==\"How do you read a CSV file in a pandas DataFrame?\":\n",
    "        print(\"You use the pd.read_csv() function. Example Code: import pandas as pd; df = pd.read_csv('your_file.csv');\")\n",
    "    elif question==\"exit\":\n",
    "        print (\"Goodbye!\")\n",
    "        break \n",
    "    else:\n",
    "        print(\"I don't understand your question\")\n",
    "    \n",
    "        \n",
    "\n",
    "    "
   ]
  }
 ],
 "metadata": {
  "kernelspec": {
   "display_name": "my_env",
   "language": "python",
   "name": "python3"
  },
  "language_info": {
   "codemirror_mode": {
    "name": "ipython",
    "version": 3
   },
   "file_extension": ".py",
   "mimetype": "text/x-python",
   "name": "python",
   "nbconvert_exporter": "python",
   "pygments_lexer": "ipython3",
   "version": "3.12.10"
  }
 },
 "nbformat": 4,
 "nbformat_minor": 5
}
